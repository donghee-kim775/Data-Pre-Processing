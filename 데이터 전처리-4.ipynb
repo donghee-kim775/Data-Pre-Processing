{
 "cells": [
  {
   "cell_type": "markdown",
   "id": "463709b5",
   "metadata": {},
   "source": [
    "# Data 구조\n",
    "#### -Data를 가져오면 먼저 확인해야할 사항중 하나!\n",
    "#### -Data가 어떻게 구성되있고 어떤 형태이고 어떤 타입인지 등등"
   ]
  },
  {
   "cell_type": "markdown",
   "id": "7bf560ae",
   "metadata": {},
   "source": [
    "# Data : 정형데이터 + 비정형데이터로 구성\n",
    "#### -정형 데이터 : excel(표)형태의 데이터, 수치형 데이터 등등\n",
    "#### ->보통 실무에서 많이 사용함\n",
    "\n",
    "#### -비정형 데이터 : 사진, 소리 등등"
   ]
  },
  {
   "cell_type": "markdown",
   "id": "d71130fe",
   "metadata": {},
   "source": [
    "# Data Type\n",
    "#### 수치형(Numeric)\n",
    "#### -이산형 : 변수의 값을 셀 수 있는 자료\n",
    "#### -연속형 : 모든 구간의 값을 가질 수 있는 숫자 자료\n",
    "\n",
    "#### 범주형(Character)\n",
    "#### -명목형 : 데이터간의 크기와 순서가 존재하지 않는 자료\n",
    "#### -순서형 : 특정 기준에 따라 순서의 의미를 갖는 자료"
   ]
  },
  {
   "cell_type": "code",
   "execution_count": 1,
   "id": "8b104ee0",
   "metadata": {},
   "outputs": [],
   "source": [
    "import pandas as pd"
   ]
  },
  {
   "cell_type": "code",
   "execution_count": 3,
   "id": "f4c9b2d6",
   "metadata": {},
   "outputs": [
    {
     "name": "stdout",
     "output_type": "stream",
     "text": [
      "(15000, 7)\n"
     ]
    },
    {
     "data": {
      "text/html": [
       "<div>\n",
       "<style scoped>\n",
       "    .dataframe tbody tr th:only-of-type {\n",
       "        vertical-align: middle;\n",
       "    }\n",
       "\n",
       "    .dataframe tbody tr th {\n",
       "        vertical-align: top;\n",
       "    }\n",
       "\n",
       "    .dataframe thead th {\n",
       "        text-align: right;\n",
       "    }\n",
       "</style>\n",
       "<table border=\"1\" class=\"dataframe\">\n",
       "  <thead>\n",
       "    <tr style=\"text-align: right;\">\n",
       "      <th></th>\n",
       "      <th>날짜</th>\n",
       "      <th>상품명</th>\n",
       "      <th>바코드</th>\n",
       "      <th>발주가능상태</th>\n",
       "      <th>입고수량</th>\n",
       "      <th>카테고리</th>\n",
       "      <th>출고수량</th>\n",
       "    </tr>\n",
       "  </thead>\n",
       "  <tbody>\n",
       "    <tr>\n",
       "      <th>0</th>\n",
       "      <td>2019-05-16</td>\n",
       "      <td>V2_0</td>\n",
       "      <td>8.801047e+12</td>\n",
       "      <td>발주가능</td>\n",
       "      <td>384</td>\n",
       "      <td>세탁세제</td>\n",
       "      <td>72</td>\n",
       "    </tr>\n",
       "    <tr>\n",
       "      <th>1</th>\n",
       "      <td>2019-05-16</td>\n",
       "      <td>V2_3</td>\n",
       "      <td>8.801047e+12</td>\n",
       "      <td>발주가능</td>\n",
       "      <td>207</td>\n",
       "      <td>세탁세제</td>\n",
       "      <td>5</td>\n",
       "    </tr>\n",
       "    <tr>\n",
       "      <th>2</th>\n",
       "      <td>2019-05-16</td>\n",
       "      <td>V2_7</td>\n",
       "      <td>8.801047e+12</td>\n",
       "      <td>발주가능</td>\n",
       "      <td>520</td>\n",
       "      <td>헤어케어</td>\n",
       "      <td>19</td>\n",
       "    </tr>\n",
       "    <tr>\n",
       "      <th>3</th>\n",
       "      <td>2019-05-16</td>\n",
       "      <td>V2_11</td>\n",
       "      <td>8.801047e+12</td>\n",
       "      <td>발주가능</td>\n",
       "      <td>0</td>\n",
       "      <td>세탁세제</td>\n",
       "      <td>5</td>\n",
       "    </tr>\n",
       "    <tr>\n",
       "      <th>4</th>\n",
       "      <td>2019-05-16</td>\n",
       "      <td>V2_14</td>\n",
       "      <td>8.801046e+12</td>\n",
       "      <td>발주가능</td>\n",
       "      <td>96</td>\n",
       "      <td>세탁세제</td>\n",
       "      <td>1</td>\n",
       "    </tr>\n",
       "  </tbody>\n",
       "</table>\n",
       "</div>"
      ],
      "text/plain": [
       "           날짜    상품명           바코드 발주가능상태  입고수량  카테고리  출고수량\n",
       "0  2019-05-16   V2_0  8.801047e+12   발주가능   384  세탁세제    72\n",
       "1  2019-05-16   V2_3  8.801047e+12   발주가능   207  세탁세제     5\n",
       "2  2019-05-16   V2_7  8.801047e+12   발주가능   520  헤어케어    19\n",
       "3  2019-05-16  V2_11  8.801047e+12   발주가능     0  세탁세제     5\n",
       "4  2019-05-16  V2_14  8.801046e+12   발주가능    96  세탁세제     1"
      ]
     },
     "execution_count": 3,
     "metadata": {},
     "output_type": "execute_result"
    }
   ],
   "source": [
    "df1 = pd.read_csv('C:/Users/Galaxy/Desktop/code/데이터 전처리 스터디/실습data/Data01.csv')\n",
    "print(df1.shape)\n",
    "df1.head()"
   ]
  },
  {
   "cell_type": "code",
   "execution_count": 4,
   "id": "1f2cc192",
   "metadata": {},
   "outputs": [
    {
     "name": "stdout",
     "output_type": "stream",
     "text": [
      "<class 'pandas.core.frame.DataFrame'>\n",
      "RangeIndex: 15000 entries, 0 to 14999\n",
      "Data columns (total 7 columns):\n",
      " #   Column  Non-Null Count  Dtype  \n",
      "---  ------  --------------  -----  \n",
      " 0   날짜      15000 non-null  object \n",
      " 1   상품명     15000 non-null  object \n",
      " 2   바코드     14992 non-null  float64\n",
      " 3   발주가능상태  15000 non-null  object \n",
      " 4   입고수량    15000 non-null  int64  \n",
      " 5   카테고리    15000 non-null  object \n",
      " 6   출고수량    15000 non-null  int64  \n",
      "dtypes: float64(1), int64(2), object(4)\n",
      "memory usage: 820.4+ KB\n"
     ]
    }
   ],
   "source": [
    "df1.info()"
   ]
  },
  {
   "cell_type": "code",
   "execution_count": 8,
   "id": "582a2b63",
   "metadata": {
    "scrolled": false
   },
   "outputs": [
    {
     "data": {
      "text/html": [
       "<div>\n",
       "<style scoped>\n",
       "    .dataframe tbody tr th:only-of-type {\n",
       "        vertical-align: middle;\n",
       "    }\n",
       "\n",
       "    .dataframe tbody tr th {\n",
       "        vertical-align: top;\n",
       "    }\n",
       "\n",
       "    .dataframe thead th {\n",
       "        text-align: right;\n",
       "    }\n",
       "</style>\n",
       "<table border=\"1\" class=\"dataframe\">\n",
       "  <thead>\n",
       "    <tr style=\"text-align: right;\">\n",
       "      <th></th>\n",
       "      <th>바코드</th>\n",
       "      <th>입고수량</th>\n",
       "      <th>출고수량</th>\n",
       "    </tr>\n",
       "  </thead>\n",
       "  <tbody>\n",
       "    <tr>\n",
       "      <th>count</th>\n",
       "      <td>1.499200e+04</td>\n",
       "      <td>15000.000000</td>\n",
       "      <td>15000.000000</td>\n",
       "    </tr>\n",
       "    <tr>\n",
       "      <th>mean</th>\n",
       "      <td>1.294839e+13</td>\n",
       "      <td>58.144533</td>\n",
       "      <td>7.205200</td>\n",
       "    </tr>\n",
       "    <tr>\n",
       "      <th>std</th>\n",
       "      <td>5.243929e+12</td>\n",
       "      <td>348.398250</td>\n",
       "      <td>19.819656</td>\n",
       "    </tr>\n",
       "    <tr>\n",
       "      <th>min</th>\n",
       "      <td>6.414100e+12</td>\n",
       "      <td>0.000000</td>\n",
       "      <td>0.000000</td>\n",
       "    </tr>\n",
       "    <tr>\n",
       "      <th>25%</th>\n",
       "      <td>8.801046e+12</td>\n",
       "      <td>0.000000</td>\n",
       "      <td>0.000000</td>\n",
       "    </tr>\n",
       "    <tr>\n",
       "      <th>50%</th>\n",
       "      <td>8.801047e+12</td>\n",
       "      <td>0.000000</td>\n",
       "      <td>1.000000</td>\n",
       "    </tr>\n",
       "    <tr>\n",
       "      <th>75%</th>\n",
       "      <td>1.880105e+13</td>\n",
       "      <td>0.000000</td>\n",
       "      <td>4.000000</td>\n",
       "    </tr>\n",
       "    <tr>\n",
       "      <th>max</th>\n",
       "      <td>2.880105e+13</td>\n",
       "      <td>9777.000000</td>\n",
       "      <td>308.000000</td>\n",
       "    </tr>\n",
       "  </tbody>\n",
       "</table>\n",
       "</div>"
      ],
      "text/plain": [
       "                바코드          입고수량          출고수량\n",
       "count  1.499200e+04  15000.000000  15000.000000\n",
       "mean   1.294839e+13     58.144533      7.205200\n",
       "std    5.243929e+12    348.398250     19.819656\n",
       "min    6.414100e+12      0.000000      0.000000\n",
       "25%    8.801046e+12      0.000000      0.000000\n",
       "50%    8.801047e+12      0.000000      1.000000\n",
       "75%    1.880105e+13      0.000000      4.000000\n",
       "max    2.880105e+13   9777.000000    308.000000"
      ]
     },
     "execution_count": 8,
     "metadata": {},
     "output_type": "execute_result"
    }
   ],
   "source": [
    "df1.describe() #수치형 데이터 확인"
   ]
  },
  {
   "cell_type": "markdown",
   "id": "8a1b1be4",
   "metadata": {},
   "source": [
    "# 범주형 데이터 확인\n",
    "#### .uniqe() : 범주형 항목 확인\n",
    "#### .value_counts() : 범주형 데이터 항목 갯수"
   ]
  },
  {
   "cell_type": "code",
   "execution_count": 9,
   "id": "e986b2eb",
   "metadata": {},
   "outputs": [
    {
     "data": {
      "text/plain": [
       "array(['세탁세제', '헤어케어', '주방세제', 'ST', 'F&B', '덴탈케어', '기타', '매입브랜드'],\n",
       "      dtype=object)"
      ]
     },
     "execution_count": 9,
     "metadata": {},
     "output_type": "execute_result"
    }
   ],
   "source": [
    "df1['카테고리'].unique() "
   ]
  },
  {
   "cell_type": "code",
   "execution_count": 10,
   "id": "5f36f1ea",
   "metadata": {},
   "outputs": [
    {
     "data": {
      "text/plain": [
       "세탁세제     4265\n",
       "덴탈케어     3115\n",
       "헤어케어     2750\n",
       "ST       1732\n",
       "주방세제     1709\n",
       "F&B      1038\n",
       "매입브랜드     238\n",
       "기타        153\n",
       "Name: 카테고리, dtype: int64"
      ]
     },
     "execution_count": 10,
     "metadata": {},
     "output_type": "execute_result"
    }
   ],
   "source": [
    "df1['카테고리'].value_counts()"
   ]
  },
  {
   "cell_type": "code",
   "execution_count": 12,
   "id": "e45fbadb",
   "metadata": {},
   "outputs": [
    {
     "data": {
      "text/plain": [
       "count     15000\n",
       "unique        8\n",
       "top        세탁세제\n",
       "freq       4265\n",
       "Name: 카테고리, dtype: object"
      ]
     },
     "execution_count": 12,
     "metadata": {},
     "output_type": "execute_result"
    }
   ],
   "source": [
    "df1['카테고리'].describe()    # 해당컬럼에 대한 범주형 통계랑확인\n",
    "# count : 데이터 개수\n",
    "# unique : 항목 개수\n",
    "# top : 가장많은 항목\n",
    "# freq : top의 개수"
   ]
  },
  {
   "cell_type": "code",
   "execution_count": 13,
   "id": "30bbf893",
   "metadata": {
    "scrolled": false
   },
   "outputs": [
    {
     "data": {
      "text/html": [
       "<div>\n",
       "<style scoped>\n",
       "    .dataframe tbody tr th:only-of-type {\n",
       "        vertical-align: middle;\n",
       "    }\n",
       "\n",
       "    .dataframe tbody tr th {\n",
       "        vertical-align: top;\n",
       "    }\n",
       "\n",
       "    .dataframe thead th {\n",
       "        text-align: right;\n",
       "    }\n",
       "</style>\n",
       "<table border=\"1\" class=\"dataframe\">\n",
       "  <thead>\n",
       "    <tr style=\"text-align: right;\">\n",
       "      <th></th>\n",
       "      <th>발주가능상태</th>\n",
       "      <th>카테고리</th>\n",
       "      <th>상품명</th>\n",
       "    </tr>\n",
       "  </thead>\n",
       "  <tbody>\n",
       "    <tr>\n",
       "      <th>count</th>\n",
       "      <td>15000</td>\n",
       "      <td>15000</td>\n",
       "      <td>15000</td>\n",
       "    </tr>\n",
       "    <tr>\n",
       "      <th>unique</th>\n",
       "      <td>3</td>\n",
       "      <td>8</td>\n",
       "      <td>528</td>\n",
       "    </tr>\n",
       "    <tr>\n",
       "      <th>top</th>\n",
       "      <td>발주가능</td>\n",
       "      <td>세탁세제</td>\n",
       "      <td>V2_114</td>\n",
       "    </tr>\n",
       "    <tr>\n",
       "      <th>freq</th>\n",
       "      <td>14700</td>\n",
       "      <td>4265</td>\n",
       "      <td>47</td>\n",
       "    </tr>\n",
       "  </tbody>\n",
       "</table>\n",
       "</div>"
      ],
      "text/plain": [
       "       발주가능상태   카테고리     상품명\n",
       "count   15000  15000   15000\n",
       "unique      3      8     528\n",
       "top      발주가능   세탁세제  V2_114\n",
       "freq    14700   4265      47"
      ]
     },
     "execution_count": 13,
     "metadata": {},
     "output_type": "execute_result"
    }
   ],
   "source": [
    "df1[['발주가능상태','카테고리','상품명']].describe()"
   ]
  },
  {
   "cell_type": "markdown",
   "id": "b30e2482",
   "metadata": {},
   "source": [
    "# 범주형 데이터만 뽑아내기"
   ]
  },
  {
   "cell_type": "code",
   "execution_count": 15,
   "id": "a05c939d",
   "metadata": {},
   "outputs": [
    {
     "data": {
      "text/plain": [
       "['바코드', '입고수량', '출고수량']"
      ]
     },
     "execution_count": 15,
     "metadata": {},
     "output_type": "execute_result"
    }
   ],
   "source": [
    "df1.describe().columns.tolist()"
   ]
  },
  {
   "cell_type": "code",
   "execution_count": 16,
   "id": "e8f3161f",
   "metadata": {},
   "outputs": [
    {
     "data": {
      "text/plain": [
       "['날짜', '상품명', '바코드', '발주가능상태', '입고수량', '카테고리', '출고수량']"
      ]
     },
     "execution_count": 16,
     "metadata": {},
     "output_type": "execute_result"
    }
   ],
   "source": [
    "df1.columns.tolist()"
   ]
  },
  {
   "cell_type": "code",
   "execution_count": 22,
   "id": "8a8b795a",
   "metadata": {},
   "outputs": [],
   "source": [
    "total_list = df1.columns.tolist() # 전체 컬럼 리스트로 만들기\n",
    "numeric_list = df1.describe().columns.tolist() # numric 컬럼\n",
    "object_list = (set(total_list)-set(numeric_list)) # 전체 컬럼 - numeric컬럼 = object컬럼"
   ]
  },
  {
   "cell_type": "code",
   "execution_count": 25,
   "id": "fa63b968",
   "metadata": {},
   "outputs": [
    {
     "data": {
      "text/html": [
       "<div>\n",
       "<style scoped>\n",
       "    .dataframe tbody tr th:only-of-type {\n",
       "        vertical-align: middle;\n",
       "    }\n",
       "\n",
       "    .dataframe tbody tr th {\n",
       "        vertical-align: top;\n",
       "    }\n",
       "\n",
       "    .dataframe thead th {\n",
       "        text-align: right;\n",
       "    }\n",
       "</style>\n",
       "<table border=\"1\" class=\"dataframe\">\n",
       "  <thead>\n",
       "    <tr style=\"text-align: right;\">\n",
       "      <th></th>\n",
       "      <th>발주가능상태</th>\n",
       "      <th>상품명</th>\n",
       "      <th>카테고리</th>\n",
       "      <th>날짜</th>\n",
       "    </tr>\n",
       "  </thead>\n",
       "  <tbody>\n",
       "    <tr>\n",
       "      <th>count</th>\n",
       "      <td>15000</td>\n",
       "      <td>15000</td>\n",
       "      <td>15000</td>\n",
       "      <td>15000</td>\n",
       "    </tr>\n",
       "    <tr>\n",
       "      <th>unique</th>\n",
       "      <td>3</td>\n",
       "      <td>528</td>\n",
       "      <td>8</td>\n",
       "      <td>84</td>\n",
       "    </tr>\n",
       "    <tr>\n",
       "      <th>top</th>\n",
       "      <td>발주가능</td>\n",
       "      <td>V2_114</td>\n",
       "      <td>세탁세제</td>\n",
       "      <td>2019-05-26</td>\n",
       "    </tr>\n",
       "    <tr>\n",
       "      <th>freq</th>\n",
       "      <td>14700</td>\n",
       "      <td>47</td>\n",
       "      <td>4265</td>\n",
       "      <td>226</td>\n",
       "    </tr>\n",
       "  </tbody>\n",
       "</table>\n",
       "</div>"
      ],
      "text/plain": [
       "       발주가능상태     상품명   카테고리          날짜\n",
       "count   15000   15000  15000       15000\n",
       "unique      3     528      8          84\n",
       "top      발주가능  V2_114   세탁세제  2019-05-26\n",
       "freq    14700      47   4265         226"
      ]
     },
     "execution_count": 25,
     "metadata": {},
     "output_type": "execute_result"
    }
   ],
   "source": [
    "df1[object_list].describe()    # 범주형 데이터만 뽑아서 통계량 확인하기"
   ]
  },
  {
   "cell_type": "markdown",
   "id": "efe589ea",
   "metadata": {},
   "source": [
    "* 정렬"
   ]
  },
  {
   "cell_type": "code",
   "execution_count": 27,
   "id": "50eb8129",
   "metadata": {},
   "outputs": [
    {
     "data": {
      "text/html": [
       "<div>\n",
       "<style scoped>\n",
       "    .dataframe tbody tr th:only-of-type {\n",
       "        vertical-align: middle;\n",
       "    }\n",
       "\n",
       "    .dataframe tbody tr th {\n",
       "        vertical-align: top;\n",
       "    }\n",
       "\n",
       "    .dataframe thead th {\n",
       "        text-align: right;\n",
       "    }\n",
       "</style>\n",
       "<table border=\"1\" class=\"dataframe\">\n",
       "  <thead>\n",
       "    <tr style=\"text-align: right;\">\n",
       "      <th></th>\n",
       "      <th>날짜</th>\n",
       "      <th>상품명</th>\n",
       "      <th>바코드</th>\n",
       "      <th>발주가능상태</th>\n",
       "      <th>입고수량</th>\n",
       "      <th>카테고리</th>\n",
       "      <th>출고수량</th>\n",
       "    </tr>\n",
       "  </thead>\n",
       "  <tbody>\n",
       "    <tr>\n",
       "      <th>7499</th>\n",
       "      <td>2019-06-23</td>\n",
       "      <td>V2_284</td>\n",
       "      <td>1.880105e+13</td>\n",
       "      <td>발주가능</td>\n",
       "      <td>0</td>\n",
       "      <td>F&amp;B</td>\n",
       "      <td>0</td>\n",
       "    </tr>\n",
       "    <tr>\n",
       "      <th>8528</th>\n",
       "      <td>2019-06-28</td>\n",
       "      <td>V2_289</td>\n",
       "      <td>1.880105e+13</td>\n",
       "      <td>발주가능</td>\n",
       "      <td>0</td>\n",
       "      <td>덴탈케어</td>\n",
       "      <td>0</td>\n",
       "    </tr>\n",
       "    <tr>\n",
       "      <th>8529</th>\n",
       "      <td>2019-06-28</td>\n",
       "      <td>V2_290</td>\n",
       "      <td>1.880105e+13</td>\n",
       "      <td>발주가능</td>\n",
       "      <td>0</td>\n",
       "      <td>덴탈케어</td>\n",
       "      <td>0</td>\n",
       "    </tr>\n",
       "    <tr>\n",
       "      <th>8530</th>\n",
       "      <td>2019-06-28</td>\n",
       "      <td>V2_291</td>\n",
       "      <td>1.880105e+13</td>\n",
       "      <td>발주가능</td>\n",
       "      <td>0</td>\n",
       "      <td>주방세제</td>\n",
       "      <td>0</td>\n",
       "    </tr>\n",
       "    <tr>\n",
       "      <th>8531</th>\n",
       "      <td>2019-06-28</td>\n",
       "      <td>V2_292</td>\n",
       "      <td>1.880105e+13</td>\n",
       "      <td>발주가능</td>\n",
       "      <td>0</td>\n",
       "      <td>주방세제</td>\n",
       "      <td>0</td>\n",
       "    </tr>\n",
       "    <tr>\n",
       "      <th>...</th>\n",
       "      <td>...</td>\n",
       "      <td>...</td>\n",
       "      <td>...</td>\n",
       "      <td>...</td>\n",
       "      <td>...</td>\n",
       "      <td>...</td>\n",
       "      <td>...</td>\n",
       "    </tr>\n",
       "    <tr>\n",
       "      <th>14062</th>\n",
       "      <td>2019-07-31</td>\n",
       "      <td>V2_129</td>\n",
       "      <td>8.801050e+12</td>\n",
       "      <td>발주가능</td>\n",
       "      <td>7287</td>\n",
       "      <td>덴탈케어</td>\n",
       "      <td>49</td>\n",
       "    </tr>\n",
       "    <tr>\n",
       "      <th>14051</th>\n",
       "      <td>2019-07-31</td>\n",
       "      <td>V2_86</td>\n",
       "      <td>1.880100e+13</td>\n",
       "      <td>발주가능</td>\n",
       "      <td>9480</td>\n",
       "      <td>세탁세제</td>\n",
       "      <td>141</td>\n",
       "    </tr>\n",
       "    <tr>\n",
       "      <th>13054</th>\n",
       "      <td>2019-07-23</td>\n",
       "      <td>V2_86</td>\n",
       "      <td>1.880105e+13</td>\n",
       "      <td>발주가능</td>\n",
       "      <td>9488</td>\n",
       "      <td>세탁세제</td>\n",
       "      <td>208</td>\n",
       "    </tr>\n",
       "    <tr>\n",
       "      <th>9719</th>\n",
       "      <td>2019-07-04</td>\n",
       "      <td>V2_86</td>\n",
       "      <td>1.880105e+13</td>\n",
       "      <td>발주가능</td>\n",
       "      <td>9539</td>\n",
       "      <td>세탁세제</td>\n",
       "      <td>205</td>\n",
       "    </tr>\n",
       "    <tr>\n",
       "      <th>3647</th>\n",
       "      <td>2019-06-03</td>\n",
       "      <td>V2_86</td>\n",
       "      <td>1.880105e+13</td>\n",
       "      <td>발주가능</td>\n",
       "      <td>9777</td>\n",
       "      <td>세탁세제</td>\n",
       "      <td>308</td>\n",
       "    </tr>\n",
       "  </tbody>\n",
       "</table>\n",
       "<p>15000 rows × 7 columns</p>\n",
       "</div>"
      ],
      "text/plain": [
       "               날짜     상품명           바코드 발주가능상태  입고수량  카테고리  출고수량\n",
       "7499   2019-06-23  V2_284  1.880105e+13   발주가능     0   F&B     0\n",
       "8528   2019-06-28  V2_289  1.880105e+13   발주가능     0  덴탈케어     0\n",
       "8529   2019-06-28  V2_290  1.880105e+13   발주가능     0  덴탈케어     0\n",
       "8530   2019-06-28  V2_291  1.880105e+13   발주가능     0  주방세제     0\n",
       "8531   2019-06-28  V2_292  1.880105e+13   발주가능     0  주방세제     0\n",
       "...           ...     ...           ...    ...   ...   ...   ...\n",
       "14062  2019-07-31  V2_129  8.801050e+12   발주가능  7287  덴탈케어    49\n",
       "14051  2019-07-31   V2_86  1.880100e+13   발주가능  9480  세탁세제   141\n",
       "13054  2019-07-23   V2_86  1.880105e+13   발주가능  9488  세탁세제   208\n",
       "9719   2019-07-04   V2_86  1.880105e+13   발주가능  9539  세탁세제   205\n",
       "3647   2019-06-03   V2_86  1.880105e+13   발주가능  9777  세탁세제   308\n",
       "\n",
       "[15000 rows x 7 columns]"
      ]
     },
     "execution_count": 27,
     "metadata": {},
     "output_type": "execute_result"
    }
   ],
   "source": [
    "df1.sort_values(by='입고수량')    # 내림차순은 ascending='False' 추가"
   ]
  },
  {
   "cell_type": "code",
   "execution_count": 29,
   "id": "cc150a3f",
   "metadata": {},
   "outputs": [
    {
     "data": {
      "text/html": [
       "<div>\n",
       "<style scoped>\n",
       "    .dataframe tbody tr th:only-of-type {\n",
       "        vertical-align: middle;\n",
       "    }\n",
       "\n",
       "    .dataframe tbody tr th {\n",
       "        vertical-align: top;\n",
       "    }\n",
       "\n",
       "    .dataframe thead th {\n",
       "        text-align: right;\n",
       "    }\n",
       "</style>\n",
       "<table border=\"1\" class=\"dataframe\">\n",
       "  <thead>\n",
       "    <tr style=\"text-align: right;\">\n",
       "      <th></th>\n",
       "      <th>날짜</th>\n",
       "      <th>상품명</th>\n",
       "      <th>바코드</th>\n",
       "      <th>발주가능상태</th>\n",
       "      <th>입고수량</th>\n",
       "      <th>카테고리</th>\n",
       "      <th>출고수량</th>\n",
       "    </tr>\n",
       "  </thead>\n",
       "  <tbody>\n",
       "    <tr>\n",
       "      <th>9091</th>\n",
       "      <td>2019-07-01</td>\n",
       "      <td>V2_86</td>\n",
       "      <td>1.880105e+13</td>\n",
       "      <td>발주가능</td>\n",
       "      <td>0</td>\n",
       "      <td>세탁세제</td>\n",
       "      <td>305</td>\n",
       "    </tr>\n",
       "    <tr>\n",
       "      <th>5005</th>\n",
       "      <td>2019-06-10</td>\n",
       "      <td>V2_86</td>\n",
       "      <td>1.880105e+13</td>\n",
       "      <td>발주가능</td>\n",
       "      <td>0</td>\n",
       "      <td>세탁세제</td>\n",
       "      <td>266</td>\n",
       "    </tr>\n",
       "    <tr>\n",
       "      <th>3831</th>\n",
       "      <td>2019-06-04</td>\n",
       "      <td>V2_86</td>\n",
       "      <td>1.880105e+13</td>\n",
       "      <td>발주가능</td>\n",
       "      <td>0</td>\n",
       "      <td>세탁세제</td>\n",
       "      <td>258</td>\n",
       "    </tr>\n",
       "    <tr>\n",
       "      <th>5200</th>\n",
       "      <td>2019-06-11</td>\n",
       "      <td>V2_86</td>\n",
       "      <td>1.880105e+13</td>\n",
       "      <td>발주가능</td>\n",
       "      <td>0</td>\n",
       "      <td>세탁세제</td>\n",
       "      <td>256</td>\n",
       "    </tr>\n",
       "    <tr>\n",
       "      <th>3218</th>\n",
       "      <td>2019-06-01</td>\n",
       "      <td>V2_86</td>\n",
       "      <td>1.880105e+13</td>\n",
       "      <td>발주가능</td>\n",
       "      <td>0</td>\n",
       "      <td>세탁세제</td>\n",
       "      <td>250</td>\n",
       "    </tr>\n",
       "    <tr>\n",
       "      <th>...</th>\n",
       "      <td>...</td>\n",
       "      <td>...</td>\n",
       "      <td>...</td>\n",
       "      <td>...</td>\n",
       "      <td>...</td>\n",
       "      <td>...</td>\n",
       "      <td>...</td>\n",
       "    </tr>\n",
       "    <tr>\n",
       "      <th>14062</th>\n",
       "      <td>2019-07-31</td>\n",
       "      <td>V2_129</td>\n",
       "      <td>8.801050e+12</td>\n",
       "      <td>발주가능</td>\n",
       "      <td>7287</td>\n",
       "      <td>덴탈케어</td>\n",
       "      <td>49</td>\n",
       "    </tr>\n",
       "    <tr>\n",
       "      <th>14051</th>\n",
       "      <td>2019-07-31</td>\n",
       "      <td>V2_86</td>\n",
       "      <td>1.880100e+13</td>\n",
       "      <td>발주가능</td>\n",
       "      <td>9480</td>\n",
       "      <td>세탁세제</td>\n",
       "      <td>141</td>\n",
       "    </tr>\n",
       "    <tr>\n",
       "      <th>13054</th>\n",
       "      <td>2019-07-23</td>\n",
       "      <td>V2_86</td>\n",
       "      <td>1.880105e+13</td>\n",
       "      <td>발주가능</td>\n",
       "      <td>9488</td>\n",
       "      <td>세탁세제</td>\n",
       "      <td>208</td>\n",
       "    </tr>\n",
       "    <tr>\n",
       "      <th>9719</th>\n",
       "      <td>2019-07-04</td>\n",
       "      <td>V2_86</td>\n",
       "      <td>1.880105e+13</td>\n",
       "      <td>발주가능</td>\n",
       "      <td>9539</td>\n",
       "      <td>세탁세제</td>\n",
       "      <td>205</td>\n",
       "    </tr>\n",
       "    <tr>\n",
       "      <th>3647</th>\n",
       "      <td>2019-06-03</td>\n",
       "      <td>V2_86</td>\n",
       "      <td>1.880105e+13</td>\n",
       "      <td>발주가능</td>\n",
       "      <td>9777</td>\n",
       "      <td>세탁세제</td>\n",
       "      <td>308</td>\n",
       "    </tr>\n",
       "  </tbody>\n",
       "</table>\n",
       "<p>15000 rows × 7 columns</p>\n",
       "</div>"
      ],
      "text/plain": [
       "               날짜     상품명           바코드 발주가능상태  입고수량  카테고리  출고수량\n",
       "9091   2019-07-01   V2_86  1.880105e+13   발주가능     0  세탁세제   305\n",
       "5005   2019-06-10   V2_86  1.880105e+13   발주가능     0  세탁세제   266\n",
       "3831   2019-06-04   V2_86  1.880105e+13   발주가능     0  세탁세제   258\n",
       "5200   2019-06-11   V2_86  1.880105e+13   발주가능     0  세탁세제   256\n",
       "3218   2019-06-01   V2_86  1.880105e+13   발주가능     0  세탁세제   250\n",
       "...           ...     ...           ...    ...   ...   ...   ...\n",
       "14062  2019-07-31  V2_129  8.801050e+12   발주가능  7287  덴탈케어    49\n",
       "14051  2019-07-31   V2_86  1.880100e+13   발주가능  9480  세탁세제   141\n",
       "13054  2019-07-23   V2_86  1.880105e+13   발주가능  9488  세탁세제   208\n",
       "9719   2019-07-04   V2_86  1.880105e+13   발주가능  9539  세탁세제   205\n",
       "3647   2019-06-03   V2_86  1.880105e+13   발주가능  9777  세탁세제   308\n",
       "\n",
       "[15000 rows x 7 columns]"
      ]
     },
     "execution_count": 29,
     "metadata": {},
     "output_type": "execute_result"
    }
   ],
   "source": [
    "df1.sort_values(by=['입고수량','출고수량'], ascending=[True, False])"
   ]
  }
 ],
 "metadata": {
  "kernelspec": {
   "display_name": "Python 3",
   "language": "python",
   "name": "python3"
  },
  "language_info": {
   "codemirror_mode": {
    "name": "ipython",
    "version": 3
   },
   "file_extension": ".py",
   "mimetype": "text/x-python",
   "name": "python",
   "nbconvert_exporter": "python",
   "pygments_lexer": "ipython3",
   "version": "3.6.13"
  }
 },
 "nbformat": 4,
 "nbformat_minor": 5
}
